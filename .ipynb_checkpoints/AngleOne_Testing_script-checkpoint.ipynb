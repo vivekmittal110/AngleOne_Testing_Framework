{
 "cells": [
  {
   "cell_type": "code",
   "execution_count": 1,
   "id": "bd4bdf00-059c-420e-b34d-2075d87b23c2",
   "metadata": {},
   "outputs": [],
   "source": [
    "# Global Variables\n",
    "Registered_ph_no = \"9319169749\"\n",
    "Clint_Id = \"V54215711\"\n",
    "driver_path = \"C:/Users/91931/Downloads/chromedriver-win64/chromedriver-win64/chromedriver.exe\""
   ]
  },
  {
   "cell_type": "code",
   "execution_count": 2,
   "id": "b6dcd0af-9b52-4e36-bf4c-b77cedff3423",
   "metadata": {},
   "outputs": [],
   "source": [
    "# Importing Library\n",
    "from selenium import webdriver\n",
    "from selenium.webdriver.chrome.service import Service\n",
    "from selenium.webdriver.common.keys import Keys\n",
    "from selenium.webdriver.common.by import By\n",
    "from selenium.webdriver.common.action_chains import ActionChains\n",
    "from selenium.webdriver.support.ui import WebDriverWait\n",
    "from selenium.webdriver.support import expected_conditions as EC\n",
    "import time"
   ]
  },
  {
   "cell_type": "code",
   "execution_count": 3,
   "id": "5a1da03e-118e-48c1-99b0-a2d15389d6ef",
   "metadata": {},
   "outputs": [],
   "source": [
    "# Initilizing Chrome \n",
    "service = Service(driver_path)\n",
    "driver = webdriver.Chrome(service = service)\n",
    "driver.get(\"https://www.angelone.in/login/\")\n",
    "driver.maximize_window()\n",
    "wait = WebDriverWait(driver,20)"
   ]
  },
  {
   "cell_type": "code",
   "execution_count": 4,
   "id": "c0c660e5-789b-43c7-b517-9fbab58a9ad0",
   "metadata": {},
   "outputs": [],
   "source": [
    "# User Login Function\n",
    "def login_fun(ph_no):\n",
    "    action = ActionChains(driver)\n",
    "    reg_btn = driver.find_element(By.XPATH, \"//input[@id = 'mobile']\")\n",
    "    \n",
    "    reg_btn.send_keys(Keys.CONTROL + \"a\")\n",
    "    reg_btn.send_keys(Keys.BACKSPACE)\n",
    "    action.click(on_element = reg_btn).send_keys(ph_no)\n",
    "    proceed_btn = driver.find_element(By.XPATH, \"//button[contains(text(), 'Proceed')]\")\n",
    "    action.click(on_element = proceed_btn)\n",
    "    action.perform()\n",
    "    \n",
    "\n",
    "    \n",
    "    otp_btn = wait.until(EC.visibility_of_element_located((By.XPATH, \"//input[@id = 'verifyOtp']\")))\n",
    "    otp = input(\"Enter otp : \")\n",
    "    otp_btn.send_keys(otp)\n",
    "    check_box = wait.until(EC.visibility_of_element_located((By.XPATH, \"//input[@id = 'tncCheck']\")))\n",
    "    check_box.click()\n",
    "    proceed_btn_otp = wait.until(EC.visibility_of_element_located((By.XPATH, \"//button[@type = 'submit']\")))\n",
    "    proceed_btn_otp.click()\n",
    "\n",
    "\n",
    "    \n",
    "    mpin_btn = wait.until(EC.visibility_of_element_located((By.XPATH, \"//input[@id = 'loginpin']\")))\n",
    "    mpin_btn.send_keys(\"9749\")\n",
    "    mpin_proceed_btn = wait.until(EC.visibility_of_element_located((By.XPATH, \"//button[@type = 'submit']\")))\n",
    "    mpin_proceed_btn.click()\n",
    "    \n",
    "    \n",
    "    "
   ]
  },
  {
   "cell_type": "code",
   "execution_count": 11,
   "id": "7321b9fb-0479-4651-bf0b-57bad388ae0a",
   "metadata": {},
   "outputs": [
    {
     "ename": "SyntaxError",
     "evalue": "'(' was never closed (753443007.py, line 7)",
     "output_type": "error",
     "traceback": [
      "\u001b[1;36m  Cell \u001b[1;32mIn[11], line 7\u001b[1;36m\u001b[0m\n\u001b[1;33m    sec_btn_float = wait.until(visibility_of_element_located((By.XPATH, \"//button[contains(text(), 'NOT NOW')]\")\u001b[0m\n\u001b[1;37m                                                            ^\u001b[0m\n\u001b[1;31mSyntaxError\u001b[0m\u001b[1;31m:\u001b[0m '(' was never closed\n"
     ]
    }
   ],
   "source": [
    "def floating_max():\n",
    "    action = ActionChains(driver)\n",
    "    \n",
    "    # risk_btn = driver.find_element(By.XPATH, \"//button[contains(text(), 'GOT IT')]\")\n",
    "    # action.click(on_element = risk_btn)\n",
    "    # action.perform()\n",
    "    sec_btn_float = wait.until(visibility_of_element_located((By.XPATH, \"//button[contains(text(), 'NOT NOW')]\")\n",
    "    sec_btn_float.click()"
   ]
  },
  {
   "cell_type": "code",
   "execution_count": 5,
   "id": "18541d8e-3782-420c-bcc0-e6562499a911",
   "metadata": {},
   "outputs": [
    {
     "name": "stdin",
     "output_type": "stream",
     "text": [
      "Enter otp :  061858\n"
     ]
    }
   ],
   "source": [
    "login_fun(Registered_ph_no)"
   ]
  },
  {
   "cell_type": "code",
   "execution_count": 9,
   "id": "e4d74774-fe66-4026-9778-5d5112bcb48e",
   "metadata": {},
   "outputs": [],
   "source": [
    "floating_max()"
   ]
  }
 ],
 "metadata": {
  "kernelspec": {
   "display_name": "Python 3 (ipykernel)",
   "language": "python",
   "name": "python3"
  },
  "language_info": {
   "codemirror_mode": {
    "name": "ipython",
    "version": 3
   },
   "file_extension": ".py",
   "mimetype": "text/x-python",
   "name": "python",
   "nbconvert_exporter": "python",
   "pygments_lexer": "ipython3",
   "version": "3.12.7"
  }
 },
 "nbformat": 4,
 "nbformat_minor": 5
}
